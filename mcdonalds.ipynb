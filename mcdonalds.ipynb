{
 "cells": [
  {
   "cell_type": "code",
   "execution_count": 11,
   "metadata": {},
   "outputs": [
    {
     "name": "stdout",
     "output_type": "stream",
     "text": [
      "<class 'pandas.core.frame.DataFrame'>\n",
      "RangeIndex: 115 entries, 0 to 114\n",
      "Data columns (total 2 columns):\n",
      "상호    115 non-null object\n",
      "주소    115 non-null object\n",
      "dtypes: object(2)\n",
      "memory usage: 1.9+ KB\n"
     ]
    }
   ],
   "source": [
    "import pandas as pd\n",
    "train = pd.read_excel('data/mcdonalds.xlsx')\n",
    "train.info()"
   ]
  },
  {
   "cell_type": "code",
   "execution_count": 12,
   "metadata": {},
   "outputs": [
    {
     "data": {
      "text/plain": [
       "0       (지번) 역삼동 822-3\n",
       "1        (지번) 을지로1가 32\n",
       "2       (지번) 동교동 162-4\n",
       "3        (지번) 청담동 87-3\n",
       "4         (지번) 등촌동 630\n",
       "            ...       \n",
       "110     (지번) 창천동 33-12\n",
       "111    (지번) 이태원동 56-20\n",
       "112    (지번) 노량진동 100-1\n",
       "113    (지번) 노량진동 100-1\n",
       "114     (지번) 방배동 909-9\n",
       "Name: 주소, Length: 115, dtype: object"
      ]
     },
     "execution_count": 12,
     "metadata": {},
     "output_type": "execute_result"
    }
   ],
   "source": [
    "trainset = train['주소']\n",
    "trainset"
   ]
  },
  {
   "cell_type": "code",
   "execution_count": 13,
   "metadata": {},
   "outputs": [
    {
     "name": "stdout",
     "output_type": "stream",
     "text": [
      "역삼동\n",
      "을지로1가\n",
      "동교동\n",
      "청담동\n",
      "등촌동\n",
      "양재동\n",
      "잠실동\n",
      "삼성동\n",
      "명동1가\n",
      "신림동\n",
      "종암동\n",
      "둔촌동\n",
      "화곡동\n",
      "신정동\n",
      "삼성1동\n",
      "양평동3가\n",
      "송파동\n",
      "신천동\n",
      "신사동\n",
      "시흥동\n",
      "이태원동\n",
      "고척동\n",
      "상암동\n",
      "서초동\n",
      "서초동\n",
      "공평동\n",
      "화양동\n",
      "신월동\n",
      "잠실동\n",
      "사당동\n",
      "창신동\n",
      "삼성동\n",
      "장지동\n",
      "종로3가\n",
      "노량진동\n",
      "영등포동3가\n",
      "신월동\n",
      "양재동\n",
      "상계동\n",
      "여의도동\n",
      "염창동\n",
      "갈현동\n",
      "서초동\n",
      "천호동\n",
      "구로동\n",
      "번동\n",
      "신길동\n",
      "논현동\n",
      "번동\n",
      "역삼동\n",
      "논현동\n",
      "쌍문동\n",
      "도화동\n",
      "공항동\n",
      "창천동\n",
      "동숭동\n",
      "회현동3가\n",
      "가락동\n",
      "안국동\n",
      "상도동\n",
      "공릉동\n",
      "망원동\n",
      "가산동\n",
      "행당동\n",
      "서교동\n",
      "이문동\n",
      "상계동\n",
      "명륜2가\n",
      "도봉동\n",
      "자양동\n",
      "구산동\n",
      "신도림동\n",
      "남가좌동\n",
      "가산동\n",
      "흑석동\n",
      "공릉동\n",
      "망원동\n",
      "가산동\n",
      "행당동\n",
      "서교동\n",
      "이문동\n",
      "상계동\n",
      "명륜2가\n",
      "도봉동\n",
      "자양동\n",
      "구산동\n",
      "신도림동\n",
      "남가좌동\n",
      "가산동\n",
      "흑석동\n",
      "길동\n",
      "동소문동1가\n",
      "중계동\n",
      "하계동\n",
      "반포동\n",
      "가산동\n",
      "미아동\n",
      "망우동\n",
      "구로동\n",
      "응암동\n",
      "행당동\n",
      "남산동1가\n",
      "청담동\n",
      "종로3가\n",
      "상계동\n",
      "갈현동\n",
      "공항동\n",
      "남가좌동\n",
      "동소문동1가\n",
      "동숭동\n",
      "창천동\n",
      "이태원동\n",
      "노량진동\n",
      "노량진동\n",
      "방배동\n"
     ]
    }
   ],
   "source": [
    "for i in range(115):\n",
    "    test = trainset[i].split()[1]\n",
    "    print(test)"
   ]
  },
  {
   "cell_type": "code",
   "execution_count": 14,
   "metadata": {},
   "outputs": [
    {
     "data": {
      "text/plain": [
       "['(지번)', '역삼동', '822-3']"
      ]
     },
     "execution_count": 14,
     "metadata": {},
     "output_type": "execute_result"
    }
   ],
   "source": [
    "test = trainset[0].split()\n",
    "test"
   ]
  },
  {
   "cell_type": "code",
   "execution_count": null,
   "metadata": {},
   "outputs": [],
   "source": [
    "shee"
   ]
  }
 ],
 "metadata": {
  "kernelspec": {
   "display_name": "Python 3",
   "language": "python",
   "name": "python3"
  },
  "language_info": {
   "codemirror_mode": {
    "name": "ipython",
    "version": 3
   },
   "file_extension": ".py",
   "mimetype": "text/x-python",
   "name": "python",
   "nbconvert_exporter": "python",
   "pygments_lexer": "ipython3",
   "version": "3.7.4"
  }
 },
 "nbformat": 4,
 "nbformat_minor": 2
}
