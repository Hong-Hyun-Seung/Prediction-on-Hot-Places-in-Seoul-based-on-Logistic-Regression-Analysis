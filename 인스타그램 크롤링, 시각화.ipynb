{
 "cells": [
  {
   "cell_type": "markdown",
   "metadata": {},
   "source": [
    "# 인스타그램 크롤링 "
   ]
  },
  {
   "cell_type": "code",
   "execution_count": null,
   "metadata": {},
   "outputs": [],
   "source": [
    "from selenium import webdriver\n",
    "import time\n",
    "import os\n",
    "os.chdir(\"C:\\\\Users\\\\이혜림\\\\Desktop\\\\코알라 유니브\")\n",
    "import requests\n",
    "import openpyxl"
   ]
  },
  {
   "cell_type": "code",
   "execution_count": null,
   "metadata": {},
   "outputs": [],
   "source": [
    "driver=webdriver.Chrome(\"./chromedriver\")\n",
    "x=input(\"찾을 태그를 입력\") #검색어 받기\n",
    "driver.get(\"https://www.instagram.com/explore/tags/%s/\"%x)\n",
    "\n",
    "while True:\n",
    "\n",
    "    element=driver.find_element_by_css_selector(\"div.v1Nh3\")\n",
    "    element.click()\n",
    "    time.sleep(3)\n",
    "    \n",
    "    #위치가 저장된 게시글 크롤링\n",
    "    try:\n",
    "        contents=driver.find_element_by_css_selector(\"div.C4VMK span\").text\n",
    "        people=driver.find_element_by_css_selector(\"a.FPmhX\").text\n",
    "        date=driver.find_element_by_css_selector(\"time._1o9PC\").text\n",
    "        place=driver.find_element_by_css_selector(\"a.O4GlU\").text \n",
    "        sheet.append([people,contents,date,place])\n",
    "        n+=1\n",
    "    except:\n",
    "        pass\n",
    "    finally:\n",
    "        driver.find_element_by_css_selector(\"button.ckWGn\").click()\n",
    "    time.sleep(3)\n",
    "    wb.save(\"./프로젝트/insta.xlsx\")\n",
    "    \n",
    "    driver.execute_script(\"\"\"\n",
    "    var element = arguments[0];\n",
    "    element.parentNode.removeChild(element);\n",
    "    \"\"\", element)\n",
    "\n",
    "    if n>300:\n",
    "        break"
   ]
  },
  {
   "cell_type": "markdown",
   "metadata": {},
   "source": [
    "# 수집된 위치 찾기"
   ]
  },
  {
   "cell_type": "code",
   "execution_count": null,
   "metadata": {},
   "outputs": [],
   "source": [
    "#카카오맵 지도 읽어오기_데이트 태그\n",
    "try:\n",
    "    wb=openpyxl.load_workbook(\"./프로젝트/insta_place.xlsx\")\n",
    "    sheet=wb.create_sheet(\"카카오_데이트\")\n",
    "    sheet.append([\"장소\",\"위치\"])\n",
    "except:\n",
    "    wb=openpyxl.Workbook()\n",
    "    sheet=wb.active\n",
    "    sheet.title=\"카카오_데이트\"\n",
    "    \n",
    "#장소 검색\n",
    "\n",
    "driver=webdriver.Chrome(\"./chromedriver\")\n",
    "driver.get(\"https://map.kakao.com/\")\n",
    "\n",
    "for idx, x in enumerate(insta[\"위치\"]):\n",
    "    if idx==0:\n",
    "        driver.find_element_by_css_selector(\"div.DimmedLayer\").click()\n",
    "        \n",
    "    search=driver.find_element_by_css_selector(\"input.query.tf_keyword\")\n",
    "    search.send_keys(x)\n",
    "    time.sleep(1)\n",
    "    driver.find_element_by_css_selector(\"button.go.ico_search\").click()\n",
    "    time.sleep(1)\n",
    "    \n",
    "    try:\n",
    "        container=driver.find_elements_by_css_selector(\"li.PlaceItem\")[0]\n",
    "        title=container.find_element_by_css_selector(\"a.link_name\").text\n",
    "        place=container.find_element_by_css_selector(\"p.lot_number\").text\n",
    "        sheet.append([title,place])\n",
    "        \n",
    "    except:\n",
    "        pass\n",
    "    finally:\n",
    "        search.clear()\n",
    "    wb.save(\"./프로젝트/insta_place.xlsx\")\n",
    "\n",
    "driver.close()"
   ]
  },
  {
   "cell_type": "code",
   "execution_count": null,
   "metadata": {},
   "outputs": [],
   "source": []
  }
 ],
 "metadata": {
  "kernelspec": {
   "display_name": "Python 3",
   "language": "python",
   "name": "python3"
  },
  "language_info": {
   "codemirror_mode": {
    "name": "ipython",
    "version": 3
   },
   "file_extension": ".py",
   "mimetype": "text/x-python",
   "name": "python",
   "nbconvert_exporter": "python",
   "pygments_lexer": "ipython3",
   "version": "3.6.5"
  }
 },
 "nbformat": 4,
 "nbformat_minor": 2
}
